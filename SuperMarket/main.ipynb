{
 "cells": [
  {
   "cell_type": "code",
   "execution_count": 3,
   "id": "49bed46d",
   "metadata": {},
   "outputs": [],
   "source": [
    "import pandas as pd\n",
    "import matplotlib.pyplot as plt\n",
    "import seaborn as sns"
   ]
  },
  {
   "cell_type": "code",
   "execution_count": 6,
   "id": "b319cb50",
   "metadata": {},
   "outputs": [
    {
     "name": "stderr",
     "output_type": "stream",
     "text": [
      "/tmp/ipykernel_9965/2423576873.py:6: UserWarning: Could not infer format, so each element will be parsed individually, falling back to `dateutil`. To ensure parsing is consistent and as-expected, please specify a format.\n",
      "  pd_data[\"Hour\"] = pd.to_datetime(pd_data[\"Time\"]).dt.hour\n"
     ]
    }
   ],
   "source": [
    "pd_data = pd.read_csv('/workspaces/Pandas-Analises/SuperMarket/supermarket_sales.csv')\n",
    "pd_data.head()\n",
    "\n",
    "# conversao de data/hora\n",
    "pd_data[\"Date\"] = pd.to_datetime(pd_data[\"Date\"])\n",
    "pd_data[\"Hour\"] = pd.to_datetime(pd_data[\"Time\"]).dt.hour\n",
    "pd_data[\"DayOfWeek\"] = pd_data[\"Date\"].dt.day_name()    "
   ]
  },
  {
   "cell_type": "code",
   "execution_count": 7,
   "id": "4d8fcd61",
   "metadata": {},
   "outputs": [
    {
     "name": "stdout",
     "output_type": "stream",
     "text": [
      "        Unit price     Quantity       Tax 5%        Total  \\\n",
      "count  1000.000000  1000.000000  1000.000000  1000.000000   \n",
      "mean     55.672130     5.510000    15.379369   322.966749   \n",
      "min      10.080000     1.000000     0.508500    10.678500   \n",
      "25%      32.875000     3.000000     5.924875   124.422375   \n",
      "50%      55.230000     5.000000    12.088000   253.848000   \n",
      "75%      77.935000     8.000000    22.445250   471.350250   \n",
      "max      99.960000    10.000000    49.650000  1042.650000   \n",
      "std      26.494628     2.923431    11.708825   245.885335   \n",
      "\n",
      "                             Date        cogs  gross margin percentage  \\\n",
      "count                        1000  1000.00000              1000.000000   \n",
      "mean   2019-02-14 00:05:45.600000   307.58738                 4.761905   \n",
      "min           2019-01-01 00:00:00    10.17000                 4.761905   \n",
      "25%           2019-01-24 00:00:00   118.49750                 4.761905   \n",
      "50%           2019-02-13 00:00:00   241.76000                 4.761905   \n",
      "75%           2019-03-08 00:00:00   448.90500                 4.761905   \n",
      "max           2019-03-30 00:00:00   993.00000                 4.761905   \n",
      "std                           NaN   234.17651                 0.000000   \n",
      "\n",
      "       gross income      Rating         Hour  \n",
      "count   1000.000000  1000.00000  1000.000000  \n",
      "mean      15.379369     6.97270    14.910000  \n",
      "min        0.508500     4.00000    10.000000  \n",
      "25%        5.924875     5.50000    12.000000  \n",
      "50%       12.088000     7.00000    15.000000  \n",
      "75%       22.445250     8.50000    18.000000  \n",
      "max       49.650000    10.00000    20.000000  \n",
      "std       11.708825     1.71858     3.186857  \n",
      "Invoice ID                 1000\n",
      "Branch                        3\n",
      "City                          3\n",
      "Customer type                 2\n",
      "Gender                        2\n",
      "Product line                  6\n",
      "Unit price                  943\n",
      "Quantity                     10\n",
      "Tax 5%                      990\n",
      "Total                       990\n",
      "Date                         89\n",
      "Time                        506\n",
      "Payment                       3\n",
      "cogs                        990\n",
      "gross margin percentage       1\n",
      "gross income                990\n",
      "Rating                       61\n",
      "Hour                         11\n",
      "DayOfWeek                     7\n",
      "dtype: int64\n"
     ]
    }
   ],
   "source": [
    "print(pd_data.describe())\n",
    "print(pd_data.nunique())"
   ]
  },
  {
   "cell_type": "code",
   "execution_count": 8,
   "id": "6ce99621",
   "metadata": {},
   "outputs": [],
   "source": [
    "# Analise por filial\n",
    "sales_by_branch =  pd_data.groupby(\"Branch\")[\"Total\"].sum()\n",
    "avg_ticket_y_branch = pd_data.groupby(\"Branch\")[\"Total\"].mean()\n"
   ]
  }
 ],
 "metadata": {
  "kernelspec": {
   "display_name": ".venv",
   "language": "python",
   "name": "python3"
  },
  "language_info": {
   "codemirror_mode": {
    "name": "ipython",
    "version": 3
   },
   "file_extension": ".py",
   "mimetype": "text/x-python",
   "name": "python",
   "nbconvert_exporter": "python",
   "pygments_lexer": "ipython3",
   "version": "3.12.3"
  }
 },
 "nbformat": 4,
 "nbformat_minor": 5
}
