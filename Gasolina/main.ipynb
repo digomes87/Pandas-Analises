{
 "cells": [
  {
   "cell_type": "code",
   "execution_count": 2,
   "id": "b75ebf33",
   "metadata": {},
   "outputs": [],
   "source": [
    "import pandas as pd"
   ]
  },
  {
   "cell_type": "code",
   "execution_count": 3,
   "id": "63ec1f8f",
   "metadata": {},
   "outputs": [
    {
     "name": "stderr",
     "output_type": "stream",
     "text": [
      "/tmp/ipykernel_11888/2750599147.py:2: DtypeWarning: Columns (12,14,15,16,17,18) have mixed types. Specify dtype option on import or set low_memory=False.\n",
      "  df2 = pd.read_csv('/workspaces/Pandas-Analises/Gasolina/gasolina_2010+.csv', index_col=0)\n"
     ]
    }
   ],
   "source": [
    "df1 = pd.read_csv('/workspaces/Pandas-Analises/Gasolina/gasolina_2000+.csv', index_col=0)\n",
    "df2 = pd.read_csv('/workspaces/Pandas-Analises/Gasolina/gasolina_2010+.csv', index_col=0)"
   ]
  },
  {
   "cell_type": "code",
   "execution_count": 29,
   "id": "41cbd92f",
   "metadata": {},
   "outputs": [
    {
     "name": "stdout",
     "output_type": "stream",
     "text": [
      "🧾 Nomes de colunas antes do tratamento:\n",
      "[\"'DATA INICIAL'\", \"'DATA FINAL'\", \"'REGIÃO'\", \"'ESTADO'\", \"'PRODUTO'\", \"'NÚMERO DE POSTOS PESQUISADOS'\", \"'UNIDADE DE MEDIDA'\", \"'PREÇO MÉDIO REVENDA'\", \"'DESVIO PADRÃO REVENDA'\", \"'PREÇO MÍNIMO REVENDA'\", \"'PREÇO MÁXIMO REVENDA'\", \"'MARGEM MÉDIA REVENDA'\", \"'COEF DE VARIAÇÃO REVENDA'\", \"'PREÇO MÉDIO DISTRIBUIÇÃO'\", \"'DESVIO PADRÃO DISTRIBUIÇÃO'\", \"'PREÇO MÍNIMO DISTRIBUIÇÃO'\", \"'PREÇO MÁXIMO DISTRIBUIÇÃO'\", \"'COEF DE VARIAÇÃO DISTRIBUIÇÃO'\", \"'ANO-MES'\"]\n"
     ]
    }
   ],
   "source": [
    "# Concatenando os dois\n",
    "print(\"🧾 Nomes de colunas antes do tratamento:\")\n",
    "print([repr(col) for col in df2.columns])\n"
   ]
  },
  {
   "cell_type": "code",
   "execution_count": 9,
   "id": "53a12044",
   "metadata": {},
   "outputs": [
    {
     "name": "stdout",
     "output_type": "stream",
     "text": [
      "<class 'pandas.core.frame.DataFrame'>\n",
      "Index: 120823 entries, 0 to 120822\n",
      "Data columns (total 18 columns):\n",
      " #   Column                         Non-Null Count   Dtype  \n",
      "---  ------                         --------------   -----  \n",
      " 0   DATA INICIAL                   120823 non-null  object \n",
      " 1   DATA FINAL                     120823 non-null  object \n",
      " 2   REGIÃO                         120823 non-null  object \n",
      " 3   ESTADO                         120823 non-null  object \n",
      " 4   PRODUTO                        120823 non-null  object \n",
      " 5   NÚMERO DE POSTOS PESQUISADOS   120823 non-null  int64  \n",
      " 6   UNIDADE DE MEDIDA              120823 non-null  object \n",
      " 7   PREÇO MÉDIO REVENDA            120823 non-null  float64\n",
      " 8   DESVIO PADRÃO REVENDA          120823 non-null  float64\n",
      " 9   PREÇO MÍNIMO REVENDA           120823 non-null  float64\n",
      " 10  PREÇO MÁXIMO REVENDA           120823 non-null  float64\n",
      " 11  MARGEM MÉDIA REVENDA           120823 non-null  object \n",
      " 12  COEF DE VARIAÇÃO REVENDA       120823 non-null  float64\n",
      " 13  PREÇO MÉDIO DISTRIBUIÇÃO       120823 non-null  object \n",
      " 14  DESVIO PADRÃO DISTRIBUIÇÃO     120823 non-null  object \n",
      " 15  PREÇO MÍNIMO DISTRIBUIÇÃO      120823 non-null  object \n",
      " 16  PREÇO MÁXIMO DISTRIBUIÇÃO      120823 non-null  object \n",
      " 17  COEF DE VARIAÇÃO DISTRIBUIÇÃO  120823 non-null  object \n",
      "dtypes: float64(5), int64(1), object(12)\n",
      "memory usage: 21.5+ MB\n"
     ]
    },
    {
     "data": {
      "text/plain": [
       "0        2004-05-09\n",
       "1        2004-05-09\n",
       "2        2004-05-09\n",
       "3        2004-05-09\n",
       "4        2004-05-09\n",
       "            ...    \n",
       "120818   2021-04-25\n",
       "120819   2021-04-25\n",
       "120820   2021-04-25\n",
       "120821   2021-04-25\n",
       "120822   2021-04-25\n",
       "Name: DATA INICIAL, Length: 120823, dtype: datetime64[ns]"
      ]
     },
     "execution_count": 9,
     "metadata": {},
     "output_type": "execute_result"
    }
   ],
   "source": [
    "df.tail()\n",
    "df.info()\n",
    "df[\"DATA INICIAL\"][2]\n",
    "pd.to_datetime(df[\"DATA INICIAL\"])"
   ]
  },
  {
   "cell_type": "code",
   "execution_count": 30,
   "id": "b8ca0d51",
   "metadata": {},
   "outputs": [
    {
     "name": "stdout",
     "output_type": "stream",
     "text": [
      "\n",
      "🧾 Nomes de colunas depois do tratamento:\n",
      "[\"'DATA INICIAL'\", \"'DATA FINAL'\", \"'REGIÃO'\", \"'ESTADO'\", \"'PRODUTO'\", \"'NÚMERO DE POSTOS PESQUISADOS'\", \"'UNIDADE DE MEDIDA'\", \"'PREÇO MÉDIO REVENDA'\", \"'DESVIO PADRÃO REVENDA'\", \"'PREÇO MÍNIMO REVENDA'\", \"'PREÇO MÁXIMO REVENDA'\", \"'MARGEM MÉDIA REVENDA'\", \"'COEF DE VARIAÇÃO REVENDA'\", \"'PREÇO MÉDIO DISTRIBUIÇÃO'\", \"'DESVIO PADRÃO DISTRIBUIÇÃO'\", \"'PREÇO MÍNIMO DISTRIBUIÇÃO'\", \"'PREÇO MÁXIMO DISTRIBUIÇÃO'\", \"'COEF DE VARIAÇÃO DISTRIBUIÇÃO'\", \"'ANO-MES'\"]\n"
     ]
    }
   ],
   "source": [
    "# 2. Padronizar nomes das colunas\n",
    "# -----------------------------\n",
    "df2.columns = df2.columns.str.strip()\n",
    "df2.columns = df2.columns.str.replace(r\"\\s+\", \" \", regex=True)\n",
    "\n",
    "print(\"\\n🧾 Nomes de colunas depois do tratamento:\")\n",
    "print([repr(col) for col in df2.columns])"
   ]
  },
  {
   "cell_type": "code",
   "execution_count": 31,
   "id": "b26f5111",
   "metadata": {},
   "outputs": [
    {
     "name": "stdout",
     "output_type": "stream",
     "text": [
      "\n",
      "📆 Valores únicos em 'ANO-MES':\n",
      "['2011/01', '2011/02', '2011/03', '2011/04', '2011/05', '2011/06', '2011/07', '2011/08', '2011/09', '2011/10', '2011/11', '2011/12', '2012/01', '2012/02', '2012/03', '2012/04', '2012/05', '2012/06', '2012/07', '2012/08', '2012/09', '2012/10', '2012/11', '2012/12', '2013/01', '2013/02', '2013/03', '2013/04', '2013/05', '2013/06', '2013/07', '2013/08', '2013/09', '2013/10', '2013/11', '2013/12', '2014/01', '2014/02', '2014/03', '2014/04', '2014/05', '2014/06', '2014/07', '2014/08', '2014/09', '2014/10', '2014/11', '2014/12', '2015/01', '2015/02', '2015/03', '2015/04', '2015/05', '2015/06', '2015/07', '2015/08', '2015/09', '2015/10', '2015/11', '2015/12', '2016/01', '2016/02', '2016/03', '2016/04', '2016/05', '2016/06', '2016/07', '2016/08', '2016/09', '2016/10', '2016/11', '2016/12', '2017/01', '2017/02', '2017/03', '2017/04', '2017/05', '2017/06', '2017/07', '2017/08', '2017/09', '2017/10', '2017/11', '2017/12', '2018/01', '2018/02', '2018/03', '2018/04', '2018/05', '2018/06', '2018/07', '2018/08', '2018/09', '2018/10', '2018/11', '2018/12', '2019/01', '2019/02', '2019/03', '2019/04', '2019/05', '2019/06', '2019/07', '2019/08', '2019/09', '2019/10', '2019/11', '2019/12', '2020/01', '2020/02', '2020/03', '2020/04', '2020/05', '2020/06', '2020/07', '2020/08', '2020/10', '2020/11', '2020/12', '2021/01', '2021/02', '2021/03', '2021/04']\n",
      "\n",
      "🧪 Tipo da coluna 'PREÇO MÉDIO REVENDA': float64\n",
      "      PREÇO MÉDIO REVENDA\n",
      "9256                2.030\n",
      "9257                1.717\n",
      "9258                1.848\n",
      "9259                1.893\n",
      "9260                2.026\n",
      "🔁 Tipo após conversão: float64\n",
      "\n",
      "🔎 Linhas encontradas para '2008/08': 0\n",
      "Empty DataFrame\n",
      "Columns: [PREÇO MÉDIO REVENDA]\n",
      "Index: []\n",
      "❗ Valores NaN no filtro: 0\n",
      "\n",
      "✅ Média do PREÇO MÉDIO REVENDA em 2008/08: nan\n"
     ]
    }
   ],
   "source": [
    "# 3. Converter 'DATA INICIAL' para datetime\n",
    "# -----------------------------\n",
    "df2[\"DATA INICIAL\"] = pd.to_datetime(df2[\"DATA INICIAL\"], errors=\"coerce\")\n",
    "\n",
    "# -----------------------------\n",
    "# 4. Criar coluna 'ANO-MES'\n",
    "# -----------------------------\n",
    "df2[\"ANO-MES\"] = df2[\"DATA INICIAL\"].dt.strftime('%Y/%m')\n",
    "\n",
    "# -----------------------------\n",
    "# 5. Verificar os valores únicos da nova coluna\n",
    "# -----------------------------\n",
    "print(\"\\n📆 Valores únicos em 'ANO-MES':\")\n",
    "print(sorted(df2[\"ANO-MES\"].unique()))\n",
    "\n",
    "# -----------------------------\n",
    "# 6. Verificar tipo e conteúdo da coluna 'PREÇO MÉDIO REVENDA'\n",
    "# -----------------------------\n",
    "col = \"PREÇO MÉDIO REVENDA\"\n",
    "\n",
    "print(f\"\\n🧪 Tipo da coluna '{col}': {df2[col].dtype}\")\n",
    "print(df2[[col]].head())\n",
    "\n",
    "# Se estiver como string, converter para float\n",
    "if df2[col].dtype == \"object\":\n",
    "    df2[col] = df2[col].str.replace(\",\", \".\")  # se tiver vírgulas\n",
    "    df2[col] = pd.to_numeric(df2[col], errors=\"coerce\")\n",
    "\n",
    "print(f\"🔁 Tipo após conversão: {df2[col].dtype}\")\n",
    "\n",
    "# -----------------------------\n",
    "# 7. Verificar filtro por 2008/08\n",
    "# -----------------------------\n",
    "mask = df2[\"ANO-MES\"] == \"2008/08\"\n",
    "\n",
    "print(f\"\\n🔎 Linhas encontradas para '2008/08': {mask.sum()}\")\n",
    "print(df2.loc[mask, [col]].head())\n",
    "print(f\"❗ Valores NaN no filtro: {df2.loc[mask, col].isna().sum()}\")\n",
    "\n",
    "# -----------------------------\n",
    "# 8. Calcular a média com segurança\n",
    "# -----------------------------\n",
    "media = df2.loc[mask, col].mean()\n",
    "print(f\"\\n✅ Média do PREÇO MÉDIO REVENDA em 2008/08: {media}\")"
   ]
  },
  {
   "cell_type": "code",
   "execution_count": 35,
   "id": "1900ed42",
   "metadata": {},
   "outputs": [
    {
     "name": "stdout",
     "output_type": "stream",
     "text": [
      "0: 'DATA INICIAL' (<class 'str'>)\n",
      "1: 'DATA FINAL' (<class 'str'>)\n",
      "2: 'REGIÃO' (<class 'str'>)\n",
      "3: 'ESTADO' (<class 'str'>)\n",
      "4: 'PRODUTO' (<class 'str'>)\n",
      "5: 'NÚMERO DE POSTOS PESQUISADOS' (<class 'str'>)\n",
      "6: 'UNIDADE DE MEDIDA' (<class 'str'>)\n",
      "7: 'PREÇO MÉDIO REVENDA' (<class 'str'>)\n",
      "8: 'DESVIO PADRÃO REVENDA' (<class 'str'>)\n",
      "9: 'PREÇO MÍNIMO REVENDA' (<class 'str'>)\n",
      "10: 'PREÇO MÁXIMO REVENDA' (<class 'str'>)\n",
      "11: 'MARGEM MÉDIA REVENDA' (<class 'str'>)\n",
      "12: 'COEF DE VARIAÇÃO REVENDA' (<class 'str'>)\n",
      "13: 'PREÇO MÉDIO DISTRIBUIÇÃO' (<class 'str'>)\n",
      "14: 'DESVIO PADRÃO DISTRIBUIÇÃO' (<class 'str'>)\n",
      "15: 'PREÇO MÍNIMO DISTRIBUIÇÃO' (<class 'str'>)\n",
      "16: 'PREÇO MÁXIMO DISTRIBUIÇÃO' (<class 'str'>)\n",
      "17: 'COEF DE VARIAÇÃO DISTRIBUIÇÃO' (<class 'str'>)\n",
      "18: 'ANO-MES' (<class 'str'>)\n",
      "🎯 Média limpa de verdade: nan\n"
     ]
    }
   ],
   "source": [
    "# Garantir que é string e limpar vírgulas/lixo\n",
    "# Remove tudo que não seja número ou ponto\n",
    "import numpy as np\n",
    "\n",
    "# Ver cada valor original com tipo\n",
    "for i, val in enumerate(df2):\n",
    "    print(f\"{i}: {repr(val)} ({type(val)})\")\n",
    "\n",
    "df2[\"PREÇO MÉDIO REVENDA\"] = (\n",
    "    df2[\"PREÇO MÉDIO REVENDA\"]\n",
    "    .astype(str)\n",
    "    .str.replace(\",\", \".\")  # troca vírgula por ponto\n",
    "    .str.replace(r\"[^0-9.]\", \"\", regex=True)  # remove qualquer coisa que não seja número ou ponto\n",
    "    .replace(\"\", np.nan)  # string vazia vira NaN\n",
    "    .astype(float)\n",
    ")\n",
    "media = df2[df2[\"ANO-MES\"] == \"2008/08\"][\"PREÇO MÉDIO REVENDA\"].mean()\n",
    "print(\"🎯 Média limpa de verdade:\", media)\n"
   ]
  },
  {
   "cell_type": "code",
   "execution_count": null,
   "id": "8b94e518",
   "metadata": {},
   "outputs": [],
   "source": []
  }
 ],
 "metadata": {
  "kernelspec": {
   "display_name": ".venv",
   "language": "python",
   "name": "python3"
  },
  "language_info": {
   "codemirror_mode": {
    "name": "ipython",
    "version": 3
   },
   "file_extension": ".py",
   "mimetype": "text/x-python",
   "name": "python",
   "nbconvert_exporter": "python",
   "pygments_lexer": "ipython3",
   "version": "3.12.3"
  }
 },
 "nbformat": 4,
 "nbformat_minor": 5
}
